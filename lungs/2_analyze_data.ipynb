{
 "cells": [
  {
   "cell_type": "code",
   "execution_count": 1,
   "id": "nasty-gasoline",
   "metadata": {},
   "outputs": [],
   "source": [
    "import numpy as np\n",
    "import pandas as pd\n",
    "from matplotlib import pyplot as plt\n",
    "from tqdm import tqdm\n",
    "from itkwidgets import view\n",
    "# %matplotlib widget"
   ]
  },
  {
   "cell_type": "code",
   "execution_count": 2,
   "id": "numerical-physiology",
   "metadata": {},
   "outputs": [],
   "source": [
    "from __future__ import division, print_function\n",
    "\n",
    "import os\n",
    "from datetime import datetime\n",
    "\n",
    "# Ignore warnings\n",
    "import warnings\n",
    "from pathlib import Path\n",
    "\n",
    "import matplotlib.pyplot as plt\n",
    "import numpy as np\n",
    "import pandas as pd\n",
    "import torch\n",
    "from skimage import io, transform\n",
    "from torch.utils.data import DataLoader, Dataset\n",
    "from torchvision import transforms, utils\n",
    "from sklearn.metrics import average_precision_score, accuracy_score\n",
    "\n",
    "warnings.filterwarnings(\"ignore\")\n",
    "\n",
    "\n",
    "import copy\n",
    "import os\n",
    "import time\n",
    "\n",
    "import matplotlib.pyplot as plt\n",
    "import numpy as np\n",
    "import torch\n",
    "import torch.nn as nn\n",
    "import torch.optim as optim\n",
    "import torchvision\n",
    "import torchvision.transforms as transforms\n",
    "from torch.optim import lr_scheduler\n",
    "from torch.utils.tensorboard import SummaryWriter\n",
    "from torchvision import datasets, models, transforms\n",
    "from tqdm import tqdm\n",
    "from torch.utils.tensorboard import SummaryWriter\n",
    "import random\n",
    "import albumentations as A\n",
    "from math import ceil\n",
    "from collections import Counter\n",
    "from art.defences.preprocessor import GaussianAugmentation"
   ]
  },
  {
   "cell_type": "code",
   "execution_count": 3,
   "id": "correct-position",
   "metadata": {},
   "outputs": [],
   "source": [
    "import sys\n",
    "sys.path.append(\"./src\")\n",
    "\n",
    "%load_ext autoreload\n",
    "%autoreload 2"
   ]
  },
  {
   "cell_type": "code",
   "execution_count": 4,
   "id": "exact-newspaper",
   "metadata": {},
   "outputs": [
    {
     "name": "stdout",
     "output_type": "stream",
     "text": [
      "The autoreload extension is already loaded. To reload it, use:\n",
      "  %reload_ext autoreload\n"
     ]
    }
   ],
   "source": [
    "%load_ext autoreload\n",
    "%autoreload 2\n",
    "\n",
    "from src.dataset import NodulesDataset\n",
    "from src.augmentations import create_mip\n",
    "from src.custom_models import resnet3d, resnet3d_bounded_relu\n",
    "from src.schedulers.cosine_annearing_with_warmup import CosineAnnealingWarmupRestarts"
   ]
  },
  {
   "cell_type": "code",
   "execution_count": 5,
   "id": "environmental-throw",
   "metadata": {},
   "outputs": [],
   "source": [
    "dataset = NodulesDataset(\"data/nodules\")"
   ]
  },
  {
   "cell_type": "code",
   "execution_count": 24,
   "id": "speaking-botswana",
   "metadata": {},
   "outputs": [
    {
     "name": "stderr",
     "output_type": "stream",
     "text": [
      "100%|██████████| 837/837 [00:00<00:00, 4585.99it/s]\n"
     ]
    }
   ],
   "source": [
    "l = []\n",
    "for l1 in tqdm(dataset):\n",
    "    l.append(l1[0].reshape(-1)/255)\n",
    "l = np.array(l)"
   ]
  },
  {
   "cell_type": "code",
   "execution_count": 25,
   "id": "extensive-description",
   "metadata": {},
   "outputs": [
    {
     "data": {
      "image/png": "[encoded data removed]",
      "text/plain": [
       "<Figure size 432x288 with 1 Axes>"
      ]
     },
     "metadata": {
      "needs_background": "light"
     },
     "output_type": "display_data"
    }
   ],
   "source": [
    "plt.hist(l.reshape(-1), bins=100)\n",
    "plt.show()"
   ]
  },
  {
   "cell_type": "code",
   "execution_count": 8,
   "id": "identified-seeker",
   "metadata": {},
   "outputs": [],
   "source": [
    "def brelu(x):\n",
    "    if x < 0:\n",
    "        return 0\n",
    "    elif x > 6: \n",
    "        return 6\n",
    "    else:\n",
    "        return x\n",
    "    \n",
    "def relu(x):\n",
    "    if x < 0:\n",
    "        return 0\n",
    "    else:\n",
    "        return x"
   ]
  },
  {
   "cell_type": "code",
   "execution_count": 9,
   "id": "secure-brooks",
   "metadata": {},
   "outputs": [
    {
     "data": {
      "image/png": "[encoded data removed]",
      "text/plain": [
       "<Figure size 432x288 with 1 Axes>"
      ]
     },
     "metadata": {
      "needs_background": "light"
     },
     "output_type": "display_data"
    }
   ],
   "source": [
    "x = np.arange(-3, 10, 0.1)\n",
    "y = list(map(brelu, x))\n",
    "plt.plot(x, y)\n",
    "plt.show()"
   ]
  },
  {
   "cell_type": "code",
   "execution_count": 10,
   "id": "bottom-watts",
   "metadata": {},
   "outputs": [
    {
     "data": {
      "image/png": "[encoded data removed]",
      "text/plain": [
       "<Figure size 432x288 with 1 Axes>"
      ]
     },
     "metadata": {
      "needs_background": "light"
     },
     "output_type": "display_data"
    }
   ],
   "source": [
    "x = np.arange(-3, 10, 0.1)\n",
    "y = list(map(relu, x))\n",
    "plt.plot(x, y)\n",
    "plt.show()"
   ]
  },
  {
   "cell_type": "code",
   "execution_count": 11,
   "id": "saving-smoke",
   "metadata": {},
   "outputs": [
    {
     "data": {
      "text/plain": [
       "ResNet(\n",
       "  (conv1): Conv3d(1, 64, kernel_size=(7, 7, 7), stride=(2, 2, 2), padding=(3, 3, 3), bias=False)\n",
       "  (bn1): BatchNorm3d(64, eps=1e-05, momentum=0.1, affine=True, track_running_stats=True)\n",
       "  (relu): ReLU6(inplace=True)\n",
       "  (maxpool): MaxPool3d(kernel_size=3, stride=2, padding=1, dilation=1, ceil_mode=False)\n",
       "  (layer1): Sequential(\n",
       "    (0): BasicBlock(\n",
       "      (conv1): Conv3d(64, 64, kernel_size=(3, 3, 3), stride=(1, 1, 1), padding=(1, 1, 1), bias=False)\n",
       "      (bn1): BatchNorm3d(64, eps=1e-05, momentum=0.1, affine=True, track_running_stats=True)\n",
       "      (relu): ReLU6(inplace=True)\n",
       "      (conv2): Conv3d(64, 64, kernel_size=(3, 3, 3), stride=(1, 1, 1), padding=(1, 1, 1), bias=False)\n",
       "      (bn2): BatchNorm3d(64, eps=1e-05, momentum=0.1, affine=True, track_running_stats=True)\n",
       "    )\n",
       "    (1): BasicBlock(\n",
       "      (conv1): Conv3d(64, 64, kernel_size=(3, 3, 3), stride=(1, 1, 1), padding=(1, 1, 1), bias=False)\n",
       "      (bn1): BatchNorm3d(64, eps=1e-05, momentum=0.1, affine=True, track_running_stats=True)\n",
       "      (relu): ReLU6(inplace=True)\n",
       "      (conv2): Conv3d(64, 64, kernel_size=(3, 3, 3), stride=(1, 1, 1), padding=(1, 1, 1), bias=False)\n",
       "      (bn2): BatchNorm3d(64, eps=1e-05, momentum=0.1, affine=True, track_running_stats=True)\n",
       "    )\n",
       "  )\n",
       "  (layer2): Sequential(\n",
       "    (0): BasicBlock(\n",
       "      (conv1): Conv3d(64, 128, kernel_size=(3, 3, 3), stride=(2, 2, 2), padding=(1, 1, 1), bias=False)\n",
       "      (bn1): BatchNorm3d(128, eps=1e-05, momentum=0.1, affine=True, track_running_stats=True)\n",
       "      (relu): ReLU6(inplace=True)\n",
       "      (conv2): Conv3d(128, 128, kernel_size=(3, 3, 3), stride=(1, 1, 1), padding=(1, 1, 1), bias=False)\n",
       "      (bn2): BatchNorm3d(128, eps=1e-05, momentum=0.1, affine=True, track_running_stats=True)\n",
       "      (downsample): Sequential(\n",
       "        (0): Conv3d(64, 128, kernel_size=(1, 1, 1), stride=(2, 2, 2), bias=False)\n",
       "        (1): BatchNorm3d(128, eps=1e-05, momentum=0.1, affine=True, track_running_stats=True)\n",
       "      )\n",
       "    )\n",
       "    (1): BasicBlock(\n",
       "      (conv1): Conv3d(128, 128, kernel_size=(3, 3, 3), stride=(1, 1, 1), padding=(1, 1, 1), bias=False)\n",
       "      (bn1): BatchNorm3d(128, eps=1e-05, momentum=0.1, affine=True, track_running_stats=True)\n",
       "      (relu): ReLU6(inplace=True)\n",
       "      (conv2): Conv3d(128, 128, kernel_size=(3, 3, 3), stride=(1, 1, 1), padding=(1, 1, 1), bias=False)\n",
       "      (bn2): BatchNorm3d(128, eps=1e-05, momentum=0.1, affine=True, track_running_stats=True)\n",
       "    )\n",
       "  )\n",
       "  (avgpool): AdaptiveAvgPool3d(output_size=(1, 1, 1))\n",
       "  (fc): Sequential(\n",
       "    (0): Linear(in_features=128, out_features=2, bias=True)\n",
       "  )\n",
       "  (softmax): Softmax(dim=None)\n",
       ")"
      ]
     },
     "execution_count": 11,
     "metadata": {},
     "output_type": "execute_result"
    }
   ],
   "source": [
    "model = resnet3d_bounded_relu.resnet18()\n",
    "model.fc = nn.Sequential(\n",
    "    nn.Linear(model.fc.in_features, 2),\n",
    ")\n",
    "\n",
    "# model.load_state_dict(torch.load(save_path))\n",
    "model.load_state_dict(torch.load(\"./models/3.2_resnet_brelu_2021-06-04_17:44:19.pt\"))\n",
    "del model.layer3\n",
    "del model.layer4\n",
    "model.eval()"
   ]
  },
  {
   "cell_type": "code",
   "execution_count": 12,
   "id": "applied-german",
   "metadata": {},
   "outputs": [],
   "source": [
    "x = np.array([x[0] / 255 for x in dataset])\n",
    "# x = dataset[0][0] / 255 \n",
    "x = x[:, np.newaxis, :, :, :]"
   ]
  },
  {
   "cell_type": "code",
   "execution_count": 13,
   "id": "verified-palestine",
   "metadata": {},
   "outputs": [
    {
     "data": {
      "text/plain": [
       "(837, 1, 48, 48, 48)"
      ]
     },
     "execution_count": 13,
     "metadata": {},
     "output_type": "execute_result"
    }
   ],
   "source": [
    "x.shape"
   ]
  },
  {
   "cell_type": "code",
   "execution_count": 14,
   "id": "geological-batch",
   "metadata": {},
   "outputs": [],
   "source": [
    "result = model.conv1(torch.Tensor(x))"
   ]
  },
  {
   "cell_type": "code",
   "execution_count": 15,
   "id": "british-mount",
   "metadata": {},
   "outputs": [],
   "source": [
    "reshaped = result.detach().numpy().reshape(-1) * 9"
   ]
  },
  {
   "cell_type": "code",
   "execution_count": 16,
   "id": "demanding-cruise",
   "metadata": {},
   "outputs": [
    {
     "data": {
      "image/png": "[encoded data removed]",
      "text/plain": [
       "<Figure size 432x288 with 1 Axes>"
      ]
     },
     "metadata": {
      "needs_background": "light"
     },
     "output_type": "display_data"
    }
   ],
   "source": [
    "plt.hist(reshaped, bins=100)\n",
    "plt.show()"
   ]
  },
  {
   "cell_type": "code",
   "execution_count": 18,
   "id": "sticky-medication",
   "metadata": {},
   "outputs": [],
   "source": [
    "bounded_relult = model.relu(torch.Tensor(reshaped))"
   ]
  },
  {
   "cell_type": "code",
   "execution_count": 19,
   "id": "duplicate-counter",
   "metadata": {},
   "outputs": [],
   "source": [
    "bounded_relult = bounded_relult.detach().numpy().reshape(-1)"
   ]
  },
  {
   "cell_type": "code",
   "execution_count": 20,
   "id": "theoretical-water",
   "metadata": {},
   "outputs": [
    {
     "data": {
      "text/plain": [
       "(740524032,)"
      ]
     },
     "execution_count": 20,
     "metadata": {},
     "output_type": "execute_result"
    }
   ],
   "source": [
    "bounded_relult.shape"
   ]
  },
  {
   "cell_type": "code",
   "execution_count": 23,
   "id": "controlled-adams",
   "metadata": {},
   "outputs": [
    {
     "data": {
      "image/png": "[encoded data removed]",
      "text/plain": [
       "<Figure size 432x288 with 1 Axes>"
      ]
     },
     "metadata": {
      "needs_background": "light"
     },
     "output_type": "display_data"
    }
   ],
   "source": [
    "plt.hist(bounded_relult[bounded_relult!=0], bins=100)\n",
    "plt.show()"
   ]
  },
  {
   "cell_type": "code",
   "execution_count": 21,
   "id": "standing-service",
   "metadata": {},
   "outputs": [
    {
     "data": {
      "image/png": "[encoded data removed]",
      "text/plain": [
       "<Figure size 432x288 with 1 Axes>"
      ]
     },
     "metadata": {
      "needs_background": "light"
     },
     "output_type": "display_data"
    }
   ],
   "source": [
    "plt.hist(bounded_relult, bins=100)\n",
    "plt.show()"
   ]
  },
  {
   "cell_type": "code",
   "execution_count": 57,
   "id": "north-africa",
   "metadata": {},
   "outputs": [],
   "source": [
    "labels = pd.read_csv(\"data/nodules/labels.csv\")"
   ]
  },
  {
   "cell_type": "code",
   "execution_count": 58,
   "id": "sought-plate",
   "metadata": {},
   "outputs": [
    {
     "data": {
      "text/html": [
       "<div>\n",
       "<style scoped>\n",
       "    .dataframe tbody tr th:only-of-type {\n",
       "        vertical-align: middle;\n",
       "    }\n",
       "\n",
       "    .dataframe tbody tr th {\n",
       "        vertical-align: top;\n",
       "    }\n",
       "\n",
       "    .dataframe thead th {\n",
       "        text-align: right;\n",
       "    }\n",
       "</style>\n",
       "<table border=\"1\" class=\"dataframe\">\n",
       "  <thead>\n",
       "    <tr style=\"text-align: right;\">\n",
       "      <th></th>\n",
       "      <th>id</th>\n",
       "      <th>malignancy</th>\n",
       "      <th>diameter</th>\n",
       "      <th>malignancy_th</th>\n",
       "      <th>fold</th>\n",
       "      <th>x</th>\n",
       "      <th>y</th>\n",
       "      <th>z</th>\n",
       "    </tr>\n",
       "  </thead>\n",
       "  <tbody>\n",
       "    <tr>\n",
       "      <th>0</th>\n",
       "      <td>0</td>\n",
       "      <td>3.5</td>\n",
       "      <td>9.208</td>\n",
       "      <td>1</td>\n",
       "      <td>0</td>\n",
       "      <td>197.763636</td>\n",
       "      <td>307.609091</td>\n",
       "      <td>82.636364</td>\n",
       "    </tr>\n",
       "    <tr>\n",
       "      <th>1</th>\n",
       "      <td>1</td>\n",
       "      <td>3.5</td>\n",
       "      <td>13.058</td>\n",
       "      <td>1</td>\n",
       "      <td>0</td>\n",
       "      <td>218.994975</td>\n",
       "      <td>220.939698</td>\n",
       "      <td>83.874372</td>\n",
       "    </tr>\n",
       "    <tr>\n",
       "      <th>2</th>\n",
       "      <td>2</td>\n",
       "      <td>4.5</td>\n",
       "      <td>21.201</td>\n",
       "      <td>1</td>\n",
       "      <td>0</td>\n",
       "      <td>349.583636</td>\n",
       "      <td>366.900000</td>\n",
       "      <td>75.232727</td>\n",
       "    </tr>\n",
       "    <tr>\n",
       "      <th>3</th>\n",
       "      <td>3</td>\n",
       "      <td>1.0</td>\n",
       "      <td>4.811</td>\n",
       "      <td>0</td>\n",
       "      <td>0</td>\n",
       "      <td>322.262295</td>\n",
       "      <td>141.508197</td>\n",
       "      <td>75.639344</td>\n",
       "    </tr>\n",
       "    <tr>\n",
       "      <th>4</th>\n",
       "      <td>4</td>\n",
       "      <td>3.5</td>\n",
       "      <td>6.637</td>\n",
       "      <td>1</td>\n",
       "      <td>0</td>\n",
       "      <td>319.385542</td>\n",
       "      <td>299.493976</td>\n",
       "      <td>209.518072</td>\n",
       "    </tr>\n",
       "    <tr>\n",
       "      <th>...</th>\n",
       "      <td>...</td>\n",
       "      <td>...</td>\n",
       "      <td>...</td>\n",
       "      <td>...</td>\n",
       "      <td>...</td>\n",
       "      <td>...</td>\n",
       "      <td>...</td>\n",
       "      <td>...</td>\n",
       "    </tr>\n",
       "    <tr>\n",
       "      <th>832</th>\n",
       "      <td>832</td>\n",
       "      <td>2.0</td>\n",
       "      <td>4.885</td>\n",
       "      <td>0</td>\n",
       "      <td>0</td>\n",
       "      <td>366.740000</td>\n",
       "      <td>195.160000</td>\n",
       "      <td>126.520000</td>\n",
       "    </tr>\n",
       "    <tr>\n",
       "      <th>833</th>\n",
       "      <td>833</td>\n",
       "      <td>5.0</td>\n",
       "      <td>15.399</td>\n",
       "      <td>1</td>\n",
       "      <td>0</td>\n",
       "      <td>167.151639</td>\n",
       "      <td>213.135246</td>\n",
       "      <td>85.942623</td>\n",
       "    </tr>\n",
       "    <tr>\n",
       "      <th>834</th>\n",
       "      <td>834</td>\n",
       "      <td>5.0</td>\n",
       "      <td>19.048</td>\n",
       "      <td>1</td>\n",
       "      <td>0</td>\n",
       "      <td>254.668224</td>\n",
       "      <td>381.303738</td>\n",
       "      <td>72.630841</td>\n",
       "    </tr>\n",
       "    <tr>\n",
       "      <th>835</th>\n",
       "      <td>835</td>\n",
       "      <td>3.5</td>\n",
       "      <td>22.184</td>\n",
       "      <td>1</td>\n",
       "      <td>0</td>\n",
       "      <td>297.606383</td>\n",
       "      <td>406.400709</td>\n",
       "      <td>56.423759</td>\n",
       "    </tr>\n",
       "    <tr>\n",
       "      <th>836</th>\n",
       "      <td>836</td>\n",
       "      <td>2.0</td>\n",
       "      <td>6.157</td>\n",
       "      <td>0</td>\n",
       "      <td>0</td>\n",
       "      <td>151.964286</td>\n",
       "      <td>145.053571</td>\n",
       "      <td>60.607143</td>\n",
       "    </tr>\n",
       "  </tbody>\n",
       "</table>\n",
       "<p>837 rows × 8 columns</p>\n",
       "</div>"
      ],
      "text/plain": [
       "      id  malignancy  diameter  malignancy_th  fold           x           y  \\\n",
       "0      0         3.5     9.208              1     0  197.763636  307.609091   \n",
       "1      1         3.5    13.058              1     0  218.994975  220.939698   \n",
       "2      2         4.5    21.201              1     0  349.583636  366.900000   \n",
       "3      3         1.0     4.811              0     0  322.262295  141.508197   \n",
       "4      4         3.5     6.637              1     0  319.385542  299.493976   \n",
       "..   ...         ...       ...            ...   ...         ...         ...   \n",
       "832  832         2.0     4.885              0     0  366.740000  195.160000   \n",
       "833  833         5.0    15.399              1     0  167.151639  213.135246   \n",
       "834  834         5.0    19.048              1     0  254.668224  381.303738   \n",
       "835  835         3.5    22.184              1     0  297.606383  406.400709   \n",
       "836  836         2.0     6.157              0     0  151.964286  145.053571   \n",
       "\n",
       "              z  \n",
       "0     82.636364  \n",
       "1     83.874372  \n",
       "2     75.232727  \n",
       "3     75.639344  \n",
       "4    209.518072  \n",
       "..          ...  \n",
       "832  126.520000  \n",
       "833   85.942623  \n",
       "834   72.630841  \n",
       "835   56.423759  \n",
       "836   60.607143  \n",
       "\n",
       "[837 rows x 8 columns]"
      ]
     },
     "execution_count": 58,
     "metadata": {},
     "output_type": "execute_result"
    }
   ],
   "source": [
    "labels"
   ]
  },
  {
   "cell_type": "code",
   "execution_count": 59,
   "id": "recent-intersection",
   "metadata": {},
   "outputs": [
    {
     "data": {
      "application/vnd.jupyter.widget-view+json": {
       "model_id": "ece1671a9adf4c049fa8562b66f555cc",
       "version_major": 2,
       "version_minor": 0
      },
      "text/plain": [
       "Canvas(toolbar=Toolbar(toolitems=[('Home', 'Reset original view', 'home', 'home'), ('Back', 'Back to previous …"
      ]
     },
     "metadata": {},
     "output_type": "display_data"
    },
    {
     "data": {
      "text/plain": [
       "(array([442.,   0.,   0.,   0.,   0.,   0.,   0.,   0.,   0., 395.]),\n",
       " array([0. , 0.1, 0.2, 0.3, 0.4, 0.5, 0.6, 0.7, 0.8, 0.9, 1. ]),\n",
       " <BarContainer object of 10 artists>)"
      ]
     },
     "execution_count": 59,
     "metadata": {},
     "output_type": "execute_result"
    }
   ],
   "source": [
    "plt.hist(labels.malignancy_th)"
   ]
  },
  {
   "cell_type": "code",
   "execution_count": 60,
   "id": "naval-neighborhood",
   "metadata": {},
   "outputs": [
    {
     "data": {
      "text/plain": [
       "array([[[ 19,  20,  19, ..., 177, 168, 173],\n",
       "        [ 18,  19,  19, ..., 183, 168, 171],\n",
       "        [ 18,  18,  20, ..., 192, 175, 173],\n",
       "        ...,\n",
       "        [ 23,  25,  29, ..., 234, 242, 225],\n",
       "        [ 23,  23,  30, ..., 240, 253, 255],\n",
       "        [ 22,  24,  32, ..., 225, 231, 243]],\n",
       "\n",
       "       [[ 19,  19,  19, ..., 190, 173, 170],\n",
       "        [ 18,  19,  17, ..., 201, 187, 177],\n",
       "        [ 18,  19,  20, ..., 209, 199, 186],\n",
       "        ...,\n",
       "        [ 24,  25,  23, ..., 233, 242, 233],\n",
       "        [ 21,  22,  22, ..., 231, 240, 254],\n",
       "        [ 23,  24,  23, ..., 217, 222, 228]],\n",
       "\n",
       "       [[ 18,  19,  19, ..., 206, 200, 186],\n",
       "        [ 18,  19,  18, ..., 217, 210, 193],\n",
       "        [ 21,  22,  21, ..., 219, 212, 197],\n",
       "        ...,\n",
       "        [ 35,  37,  31, ..., 234, 242, 235],\n",
       "        [ 32,  39,  33, ..., 231, 239, 251],\n",
       "        [ 30,  34,  29, ..., 214, 213, 220]],\n",
       "\n",
       "       ...,\n",
       "\n",
       "       [[ 22,  23,  24, ...,  18,  20,  24],\n",
       "        [ 19,  21,  29, ...,  17,  22,  23],\n",
       "        [ 17,  17,  39, ...,  32,  29,  27],\n",
       "        ...,\n",
       "        [222, 224, 227, ..., 233, 233, 234],\n",
       "        [221, 223, 226, ..., 233, 233, 235],\n",
       "        [220, 221, 224, ..., 231, 231, 233]],\n",
       "\n",
       "       [[ 22,  20,  21, ...,  21,  23,  24],\n",
       "        [ 19,  21,  25, ...,  20,  26,  26],\n",
       "        [ 18,  19,  32, ...,  40,  31,  28],\n",
       "        ...,\n",
       "        [221, 223, 226, ..., 233, 234, 236],\n",
       "        [222, 222, 224, ..., 231, 232, 235],\n",
       "        [219, 220, 222, ..., 230, 231, 233]],\n",
       "\n",
       "       [[ 23,  22,  20, ...,  23,  26,  26],\n",
       "        [ 20,  20,  20, ...,  22,  25,  25],\n",
       "        [ 18,  19,  24, ...,  38,  26,  26],\n",
       "        ...,\n",
       "        [222, 224, 226, ..., 231, 233, 235],\n",
       "        [221, 221, 224, ..., 230, 231, 234],\n",
       "        [218, 218, 221, ..., 230, 229, 233]]], dtype=uint8)"
      ]
     },
     "execution_count": 60,
     "metadata": {},
     "output_type": "execute_result"
    }
   ],
   "source": [
    "np.load(\"data/nodules/1.npy\")"
   ]
  },
  {
   "cell_type": "code",
   "execution_count": 61,
   "id": "plastic-grave",
   "metadata": {},
   "outputs": [
    {
     "data": {
      "text/plain": [
       "(48, 48, 48)"
      ]
     },
     "execution_count": 61,
     "metadata": {},
     "output_type": "execute_result"
    }
   ],
   "source": [
    "np.load(\"data/nodules/1.npy\").shape"
   ]
  },
  {
   "cell_type": "markdown",
   "id": "dramatic-triumph",
   "metadata": {},
   "source": [
    "### malignancy_th - 0"
   ]
  },
  {
   "cell_type": "code",
   "execution_count": 62,
   "id": "worthy-basketball",
   "metadata": {},
   "outputs": [],
   "source": [
    "samples_0 = labels[labels[\"malignancy_th\"] == 0].sample(3, random_state=1)"
   ]
  },
  {
   "cell_type": "code",
   "execution_count": 63,
   "id": "opposite-commercial",
   "metadata": {},
   "outputs": [
    {
     "data": {
      "text/html": [
       "<div>\n",
       "<style scoped>\n",
       "    .dataframe tbody tr th:only-of-type {\n",
       "        vertical-align: middle;\n",
       "    }\n",
       "\n",
       "    .dataframe tbody tr th {\n",
       "        vertical-align: top;\n",
       "    }\n",
       "\n",
       "    .dataframe thead th {\n",
       "        text-align: right;\n",
       "    }\n",
       "</style>\n",
       "<table border=\"1\" class=\"dataframe\">\n",
       "  <thead>\n",
       "    <tr style=\"text-align: right;\">\n",
       "      <th></th>\n",
       "      <th>id</th>\n",
       "      <th>malignancy</th>\n",
       "      <th>diameter</th>\n",
       "      <th>malignancy_th</th>\n",
       "      <th>fold</th>\n",
       "      <th>x</th>\n",
       "      <th>y</th>\n",
       "      <th>z</th>\n",
       "    </tr>\n",
       "  </thead>\n",
       "  <tbody>\n",
       "    <tr>\n",
       "      <th>504</th>\n",
       "      <td>504</td>\n",
       "      <td>2.5</td>\n",
       "      <td>3.920</td>\n",
       "      <td>0</td>\n",
       "      <td>0</td>\n",
       "      <td>228.320000</td>\n",
       "      <td>110.180000</td>\n",
       "      <td>105.900000</td>\n",
       "    </tr>\n",
       "    <tr>\n",
       "      <th>807</th>\n",
       "      <td>807</td>\n",
       "      <td>2.5</td>\n",
       "      <td>5.820</td>\n",
       "      <td>0</td>\n",
       "      <td>0</td>\n",
       "      <td>249.435484</td>\n",
       "      <td>34.608871</td>\n",
       "      <td>148.479839</td>\n",
       "    </tr>\n",
       "    <tr>\n",
       "      <th>575</th>\n",
       "      <td>575</td>\n",
       "      <td>1.0</td>\n",
       "      <td>9.107</td>\n",
       "      <td>0</td>\n",
       "      <td>0</td>\n",
       "      <td>394.025000</td>\n",
       "      <td>294.795833</td>\n",
       "      <td>500.934722</td>\n",
       "    </tr>\n",
       "  </tbody>\n",
       "</table>\n",
       "</div>"
      ],
      "text/plain": [
       "      id  malignancy  diameter  malignancy_th  fold           x           y  \\\n",
       "504  504         2.5     3.920              0     0  228.320000  110.180000   \n",
       "807  807         2.5     5.820              0     0  249.435484   34.608871   \n",
       "575  575         1.0     9.107              0     0  394.025000  294.795833   \n",
       "\n",
       "              z  \n",
       "504  105.900000  \n",
       "807  148.479839  \n",
       "575  500.934722  "
      ]
     },
     "execution_count": 63,
     "metadata": {},
     "output_type": "execute_result"
    }
   ],
   "source": [
    "samples_0"
   ]
  },
  {
   "cell_type": "code",
   "execution_count": 64,
   "id": "hydraulic-heather",
   "metadata": {},
   "outputs": [
    {
     "data": {
      "application/vnd.jupyter.widget-view+json": {
       "model_id": "5722f83004014115af389cc1524bab95",
       "version_major": 2,
       "version_minor": 0
      },
      "text/plain": [
       "Viewer(geometries=[], gradient_opacity=0.22, point_sets=[], rendered_image=<itk.itkImagePython.itkImageUC3; pr…"
      ]
     },
     "metadata": {},
     "output_type": "display_data"
    }
   ],
   "source": [
    "view(np.load(f\"data/nodules/{int(samples_0.iloc[0].id)}.npy\"))"
   ]
  },
  {
   "cell_type": "code",
   "execution_count": 65,
   "id": "inside-thailand",
   "metadata": {},
   "outputs": [
    {
     "data": {
      "application/vnd.jupyter.widget-view+json": {
       "model_id": "fdf3daff0e6c4f95ae5ad26faeed747a",
       "version_major": 2,
       "version_minor": 0
      },
      "text/plain": [
       "Viewer(geometries=[], gradient_opacity=0.22, point_sets=[], rendered_image=<itk.itkImagePython.itkImageUC3; pr…"
      ]
     },
     "metadata": {},
     "output_type": "display_data"
    }
   ],
   "source": [
    "view(np.load(f\"data/nodules/{int(samples_0.iloc[1].id)}.npy\"))"
   ]
  },
  {
   "cell_type": "code",
   "execution_count": 66,
   "id": "golden-actor",
   "metadata": {},
   "outputs": [
    {
     "data": {
      "application/vnd.jupyter.widget-view+json": {
       "model_id": "b32955d1f20a4aa1b92f383d4db2ae88",
       "version_major": 2,
       "version_minor": 0
      },
      "text/plain": [
       "Viewer(geometries=[], gradient_opacity=0.22, point_sets=[], rendered_image=<itk.itkImagePython.itkImageUC3; pr…"
      ]
     },
     "metadata": {},
     "output_type": "display_data"
    }
   ],
   "source": [
    "view(np.load(f\"data/nodules/{int(samples_0.iloc[2].id)}.npy\"))"
   ]
  },
  {
   "cell_type": "markdown",
   "id": "confident-capture",
   "metadata": {},
   "source": [
    "### malignancy_th - 1"
   ]
  },
  {
   "cell_type": "code",
   "execution_count": 67,
   "id": "forty-landscape",
   "metadata": {},
   "outputs": [],
   "source": [
    "samples_1 = labels[labels[\"malignancy_th\"] == 1].sample(3, random_state=1)"
   ]
  },
  {
   "cell_type": "code",
   "execution_count": 68,
   "id": "bridal-defeat",
   "metadata": {},
   "outputs": [
    {
     "data": {
      "text/html": [
       "<div>\n",
       "<style scoped>\n",
       "    .dataframe tbody tr th:only-of-type {\n",
       "        vertical-align: middle;\n",
       "    }\n",
       "\n",
       "    .dataframe tbody tr th {\n",
       "        vertical-align: top;\n",
       "    }\n",
       "\n",
       "    .dataframe thead th {\n",
       "        text-align: right;\n",
       "    }\n",
       "</style>\n",
       "<table border=\"1\" class=\"dataframe\">\n",
       "  <thead>\n",
       "    <tr style=\"text-align: right;\">\n",
       "      <th></th>\n",
       "      <th>id</th>\n",
       "      <th>malignancy</th>\n",
       "      <th>diameter</th>\n",
       "      <th>malignancy_th</th>\n",
       "      <th>fold</th>\n",
       "      <th>x</th>\n",
       "      <th>y</th>\n",
       "      <th>z</th>\n",
       "    </tr>\n",
       "  </thead>\n",
       "  <tbody>\n",
       "    <tr>\n",
       "      <th>248</th>\n",
       "      <td>248</td>\n",
       "      <td>4.0</td>\n",
       "      <td>11.667</td>\n",
       "      <td>1</td>\n",
       "      <td>0</td>\n",
       "      <td>260.713523</td>\n",
       "      <td>341.193950</td>\n",
       "      <td>196.396797</td>\n",
       "    </tr>\n",
       "    <tr>\n",
       "      <th>802</th>\n",
       "      <td>802</td>\n",
       "      <td>5.0</td>\n",
       "      <td>21.197</td>\n",
       "      <td>1</td>\n",
       "      <td>0</td>\n",
       "      <td>162.181113</td>\n",
       "      <td>144.144890</td>\n",
       "      <td>53.420440</td>\n",
       "    </tr>\n",
       "    <tr>\n",
       "      <th>483</th>\n",
       "      <td>483</td>\n",
       "      <td>3.5</td>\n",
       "      <td>10.754</td>\n",
       "      <td>1</td>\n",
       "      <td>0</td>\n",
       "      <td>179.589928</td>\n",
       "      <td>187.352518</td>\n",
       "      <td>57.381295</td>\n",
       "    </tr>\n",
       "  </tbody>\n",
       "</table>\n",
       "</div>"
      ],
      "text/plain": [
       "      id  malignancy  diameter  malignancy_th  fold           x           y  \\\n",
       "248  248         4.0    11.667              1     0  260.713523  341.193950   \n",
       "802  802         5.0    21.197              1     0  162.181113  144.144890   \n",
       "483  483         3.5    10.754              1     0  179.589928  187.352518   \n",
       "\n",
       "              z  \n",
       "248  196.396797  \n",
       "802   53.420440  \n",
       "483   57.381295  "
      ]
     },
     "execution_count": 68,
     "metadata": {},
     "output_type": "execute_result"
    }
   ],
   "source": [
    "samples_1"
   ]
  },
  {
   "cell_type": "code",
   "execution_count": 69,
   "id": "committed-modern",
   "metadata": {},
   "outputs": [
    {
     "data": {
      "application/vnd.jupyter.widget-view+json": {
       "model_id": "f7d2ac73777640e2a14504939b2b5a08",
       "version_major": 2,
       "version_minor": 0
      },
      "text/plain": [
       "Viewer(geometries=[], gradient_opacity=0.22, point_sets=[], rendered_image=<itk.itkImagePython.itkImageUC3; pr…"
      ]
     },
     "metadata": {},
     "output_type": "display_data"
    }
   ],
   "source": [
    "view(np.load(f\"data/nodules/{int(samples_1.iloc[0].id)}.npy\"))"
   ]
  },
  {
   "cell_type": "code",
   "execution_count": 70,
   "id": "acute-newspaper",
   "metadata": {},
   "outputs": [
    {
     "data": {
      "application/vnd.jupyter.widget-view+json": {
       "model_id": "d078e57b5dc44ee59d8ba3b7a24684b3",
       "version_major": 2,
       "version_minor": 0
      },
      "text/plain": [
       "Viewer(geometries=[], gradient_opacity=0.22, point_sets=[], rendered_image=<itk.itkImagePython.itkImageUC3; pr…"
      ]
     },
     "metadata": {},
     "output_type": "display_data"
    }
   ],
   "source": [
    "view(np.load(f\"data/nodules/{int(samples_1.iloc[1].id)}.npy\"))"
   ]
  },
  {
   "cell_type": "code",
   "execution_count": 55,
   "id": "furnished-roller",
   "metadata": {},
   "outputs": [
    {
     "data": {
      "application/vnd.jupyter.widget-view+json": {
       "model_id": "6be84b634bec4e068e93e941eb88d259",
       "version_major": 2,
       "version_minor": 0
      },
      "text/plain": [
       "Viewer(geometries=[], gradient_opacity=0.22, point_sets=[], rendered_image=<itk.itkImagePython.itkImageUC3; pr…"
      ]
     },
     "metadata": {},
     "output_type": "display_data"
    }
   ],
   "source": [
    "view(np.load(f\"data/nodules/{int(samples_1.iloc[2].id)}.npy\"))"
   ]
  },
  {
   "cell_type": "code",
   "execution_count": null,
   "id": "gothic-cookbook",
   "metadata": {},
   "outputs": [],
   "source": []
  }
 ],
 "metadata": {
  "kernelspec": {
   "display_name": "Python 3",
   "language": "python",
   "name": "python3"
  },
  "language_info": {
   "codemirror_mode": {
    "name": "ipython",
    "version": 3
   },
   "file_extension": ".py",
   "mimetype": "text/x-python",
   "name": "python",
   "nbconvert_exporter": "python",
   "pygments_lexer": "ipython3",
   "version": "3.8.5"
  }
 },
 "nbformat": 4,
 "nbformat_minor": 5
}
