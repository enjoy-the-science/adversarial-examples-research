{
 "cells": [
  {
   "cell_type": "code",
   "execution_count": 266,
   "id": "distinguished-massachusetts",
   "metadata": {},
   "outputs": [
    {
     "name": "stdout",
     "output_type": "stream",
     "text": [
      "The autoreload extension is already loaded. To reload it, use:\n",
      "  %reload_ext autoreload\n"
     ]
    }
   ],
   "source": [
    "import os\n",
    "import warnings\n",
    "from datetime import datetime\n",
    "from pathlib import Path\n",
    "\n",
    "import matplotlib.pyplot as plt\n",
    "import numpy as np\n",
    "import pandas as pd\n",
    "import torch\n",
    "from tqdm import tqdm\n",
    "from skimage import io, transform\n",
    "import torch.nn as nn\n",
    "from torch.utils.data import DataLoader, Dataset\n",
    "from torchvision import transforms, utils, models\n",
    "from sklearn.metrics import average_precision_score\n",
    "\n",
    "warnings.filterwarnings(\"ignore\")\n",
    "\n",
    "%load_ext autoreload\n",
    "%autoreload 2\n",
    "\n",
    "from src.dataset import NodulesDataset\n",
    "from src.augmentations import create_mip\n",
    "from src.custom_models import resnet2d"
   ]
  },
  {
   "cell_type": "markdown",
   "id": "northern-friday",
   "metadata": {},
   "source": [
    "### Load molel"
   ]
  },
  {
   "cell_type": "code",
   "execution_count": 304,
   "id": "favorite-burning",
   "metadata": {},
   "outputs": [],
   "source": [
    "# model = resnet.resnet18()\n",
    "# num_ftrs = model.fc.in_features\n",
    "# model.fc = nn.Linear(num_ftrs, 2)\n",
    "\n",
    "# model_ft = resnet.resnet18()\n",
    "\n",
    "model = resnet2d.resnet18without_batch_norm()\n",
    "\n",
    "save_path = \"models/resnet18_2021-04-03_03:04:07.pt\"\n",
    "# save_path = \"models/resnet18_2021-03-29_16:42:26.pt\"\n",
    "model.load_state_dict(torch.load(save_path))\n",
    "model.eval()\n",
    "\n",
    "# model.apply(deactivate_batchnorm)"
   ]
  },
  {
   "cell_type": "markdown",
   "id": "informal-lawyer",
   "metadata": {},
   "source": [
    "### Analyze"
   ]
  },
  {
   "cell_type": "code",
   "execution_count": 305,
   "id": "neutral-irish",
   "metadata": {},
   "outputs": [],
   "source": [
    "original_dataset_without_augmentations = NodulesDataset(\n",
    "    \"data/nodules\", \n",
    "    transform=transforms.Compose(\n",
    "        [\n",
    "#             lambda x: x / 255,\n",
    "#             lambda x: (x - 0.3011869) / 0.25784153,\n",
    "#             lambda x: x[np.newaxis, :, :, :],\n",
    "#             lambda x: torch.tensor(x, dtype=torch.float32),\n",
    "            \n",
    "            lambda x: create_mip(x),\n",
    "            lambda x: x/255,\n",
    "            lambda x: x[np.newaxis, :, :],\n",
    "            lambda x: torch.tensor(x, dtype=torch.float32),\n",
    "        ]\n",
    "    ),\n",
    "    return_path = True\n",
    ")\n",
    "\n",
    "original_loader = torch.utils.data.DataLoader(\n",
    "    original_dataset_without_augmentations, batch_size=32, shuffle=False, num_workers=1\n",
    ")"
   ]
  },
  {
   "cell_type": "code",
   "execution_count": 306,
   "id": "inside-proxy",
   "metadata": {},
   "outputs": [
    {
     "name": "stderr",
     "output_type": "stream",
     "text": [
      "100%|██████████| 837/837 [00:07<00:00, 117.45it/s]\n"
     ]
    }
   ],
   "source": [
    "results = []\n",
    "with torch.no_grad():\n",
    "    for i, (input_, label, path) in tqdm(enumerate(original_dataset_without_augmentations), total=len(original_dataset_without_augmentations)):\n",
    "        output = model(input_.unsqueeze(0))\n",
    "\n",
    "        _, pred = torch.max(output, 1)\n",
    "\n",
    "        results.append({\n",
    "            \"id\": i,\n",
    "            \"path\": path,\n",
    "            \"prob\": output.numpy()[0][1],\n",
    "            \"y_pred\": pred.numpy()[0],\n",
    "            \"y_true\": label,\n",
    "        })"
   ]
  },
  {
   "cell_type": "code",
   "execution_count": 307,
   "id": "pointed-feeding",
   "metadata": {},
   "outputs": [],
   "source": [
    "results = pd.DataFrame(results)"
   ]
  },
  {
   "cell_type": "code",
   "execution_count": 308,
   "id": "south-taste",
   "metadata": {},
   "outputs": [
    {
     "data": {
      "text/html": [
       "<div>\n",
       "<style scoped>\n",
       "    .dataframe tbody tr th:only-of-type {\n",
       "        vertical-align: middle;\n",
       "    }\n",
       "\n",
       "    .dataframe tbody tr th {\n",
       "        vertical-align: top;\n",
       "    }\n",
       "\n",
       "    .dataframe thead th {\n",
       "        text-align: right;\n",
       "    }\n",
       "</style>\n",
       "<table border=\"1\" class=\"dataframe\">\n",
       "  <thead>\n",
       "    <tr style=\"text-align: right;\">\n",
       "      <th></th>\n",
       "      <th>id</th>\n",
       "      <th>path</th>\n",
       "      <th>prob</th>\n",
       "      <th>y_pred</th>\n",
       "      <th>y_true</th>\n",
       "    </tr>\n",
       "  </thead>\n",
       "  <tbody>\n",
       "    <tr>\n",
       "      <th>0</th>\n",
       "      <td>0</td>\n",
       "      <td>data/nodules/0.npy</td>\n",
       "      <td>9.999994e-01</td>\n",
       "      <td>1</td>\n",
       "      <td>1</td>\n",
       "    </tr>\n",
       "    <tr>\n",
       "      <th>1</th>\n",
       "      <td>1</td>\n",
       "      <td>data/nodules/1.npy</td>\n",
       "      <td>1.000000e+00</td>\n",
       "      <td>1</td>\n",
       "      <td>1</td>\n",
       "    </tr>\n",
       "    <tr>\n",
       "      <th>2</th>\n",
       "      <td>2</td>\n",
       "      <td>data/nodules/2.npy</td>\n",
       "      <td>1.000000e+00</td>\n",
       "      <td>1</td>\n",
       "      <td>1</td>\n",
       "    </tr>\n",
       "    <tr>\n",
       "      <th>3</th>\n",
       "      <td>3</td>\n",
       "      <td>data/nodules/3.npy</td>\n",
       "      <td>7.544343e-37</td>\n",
       "      <td>0</td>\n",
       "      <td>0</td>\n",
       "    </tr>\n",
       "    <tr>\n",
       "      <th>4</th>\n",
       "      <td>4</td>\n",
       "      <td>data/nodules/4.npy</td>\n",
       "      <td>6.598618e-01</td>\n",
       "      <td>1</td>\n",
       "      <td>1</td>\n",
       "    </tr>\n",
       "    <tr>\n",
       "      <th>...</th>\n",
       "      <td>...</td>\n",
       "      <td>...</td>\n",
       "      <td>...</td>\n",
       "      <td>...</td>\n",
       "      <td>...</td>\n",
       "    </tr>\n",
       "    <tr>\n",
       "      <th>832</th>\n",
       "      <td>832</td>\n",
       "      <td>data/nodules/832.npy</td>\n",
       "      <td>4.661128e-29</td>\n",
       "      <td>0</td>\n",
       "      <td>0</td>\n",
       "    </tr>\n",
       "    <tr>\n",
       "      <th>833</th>\n",
       "      <td>833</td>\n",
       "      <td>data/nodules/833.npy</td>\n",
       "      <td>1.000000e+00</td>\n",
       "      <td>1</td>\n",
       "      <td>1</td>\n",
       "    </tr>\n",
       "    <tr>\n",
       "      <th>834</th>\n",
       "      <td>834</td>\n",
       "      <td>data/nodules/834.npy</td>\n",
       "      <td>1.000000e+00</td>\n",
       "      <td>1</td>\n",
       "      <td>1</td>\n",
       "    </tr>\n",
       "    <tr>\n",
       "      <th>835</th>\n",
       "      <td>835</td>\n",
       "      <td>data/nodules/835.npy</td>\n",
       "      <td>1.000000e+00</td>\n",
       "      <td>1</td>\n",
       "      <td>1</td>\n",
       "    </tr>\n",
       "    <tr>\n",
       "      <th>836</th>\n",
       "      <td>836</td>\n",
       "      <td>data/nodules/836.npy</td>\n",
       "      <td>2.175399e-34</td>\n",
       "      <td>0</td>\n",
       "      <td>0</td>\n",
       "    </tr>\n",
       "  </tbody>\n",
       "</table>\n",
       "<p>837 rows × 5 columns</p>\n",
       "</div>"
      ],
      "text/plain": [
       "      id                  path          prob  y_pred  y_true\n",
       "0      0    data/nodules/0.npy  9.999994e-01       1       1\n",
       "1      1    data/nodules/1.npy  1.000000e+00       1       1\n",
       "2      2    data/nodules/2.npy  1.000000e+00       1       1\n",
       "3      3    data/nodules/3.npy  7.544343e-37       0       0\n",
       "4      4    data/nodules/4.npy  6.598618e-01       1       1\n",
       "..   ...                   ...           ...     ...     ...\n",
       "832  832  data/nodules/832.npy  4.661128e-29       0       0\n",
       "833  833  data/nodules/833.npy  1.000000e+00       1       1\n",
       "834  834  data/nodules/834.npy  1.000000e+00       1       1\n",
       "835  835  data/nodules/835.npy  1.000000e+00       1       1\n",
       "836  836  data/nodules/836.npy  2.175399e-34       0       0\n",
       "\n",
       "[837 rows x 5 columns]"
      ]
     },
     "execution_count": 308,
     "metadata": {},
     "output_type": "execute_result"
    }
   ],
   "source": [
    "results"
   ]
  },
  {
   "cell_type": "code",
   "execution_count": 309,
   "id": "every-insight",
   "metadata": {},
   "outputs": [
    {
     "data": {
      "image/png": "[encoded data removed]",
      "text/plain": [
       "<Figure size 432x288 with 1 Axes>"
      ]
     },
     "metadata": {
      "needs_background": "light"
     },
     "output_type": "display_data"
    }
   ],
   "source": [
    "plt.hist(results[\"prob\"])\n",
    "plt.show()"
   ]
  },
  {
   "cell_type": "code",
   "execution_count": 310,
   "id": "classical-client",
   "metadata": {},
   "outputs": [
    {
     "data": {
      "text/html": [
       "<div>\n",
       "<style scoped>\n",
       "    .dataframe tbody tr th:only-of-type {\n",
       "        vertical-align: middle;\n",
       "    }\n",
       "\n",
       "    .dataframe tbody tr th {\n",
       "        vertical-align: top;\n",
       "    }\n",
       "\n",
       "    .dataframe thead th {\n",
       "        text-align: right;\n",
       "    }\n",
       "</style>\n",
       "<table border=\"1\" class=\"dataframe\">\n",
       "  <thead>\n",
       "    <tr style=\"text-align: right;\">\n",
       "      <th></th>\n",
       "      <th>id</th>\n",
       "      <th>path</th>\n",
       "      <th>prob</th>\n",
       "      <th>y_pred</th>\n",
       "      <th>y_true</th>\n",
       "    </tr>\n",
       "  </thead>\n",
       "  <tbody>\n",
       "    <tr>\n",
       "      <th>22</th>\n",
       "      <td>22</td>\n",
       "      <td>data/nodules/22.npy</td>\n",
       "      <td>0.728199</td>\n",
       "      <td>1</td>\n",
       "      <td>0</td>\n",
       "    </tr>\n",
       "    <tr>\n",
       "      <th>422</th>\n",
       "      <td>422</td>\n",
       "      <td>data/nodules/422.npy</td>\n",
       "      <td>0.765127</td>\n",
       "      <td>1</td>\n",
       "      <td>1</td>\n",
       "    </tr>\n",
       "  </tbody>\n",
       "</table>\n",
       "</div>"
      ],
      "text/plain": [
       "      id                  path      prob  y_pred  y_true\n",
       "22    22   data/nodules/22.npy  0.728199       1       0\n",
       "422  422  data/nodules/422.npy  0.765127       1       1"
      ]
     },
     "execution_count": 310,
     "metadata": {},
     "output_type": "execute_result"
    }
   ],
   "source": [
    "# results[np.array([results[\"prob\"] < 0.3, results[\"prob\"] > 0.25]).all(axis=0)]\n",
    "results[np.array([results[\"prob\"] < 0.8, results[\"prob\"] > 0.7]).all(axis=0)]"
   ]
  },
  {
   "cell_type": "code",
   "execution_count": 275,
   "id": "short-warehouse",
   "metadata": {},
   "outputs": [
    {
     "data": {
      "text/html": [
       "<div>\n",
       "<style scoped>\n",
       "    .dataframe tbody tr th:only-of-type {\n",
       "        vertical-align: middle;\n",
       "    }\n",
       "\n",
       "    .dataframe tbody tr th {\n",
       "        vertical-align: top;\n",
       "    }\n",
       "\n",
       "    .dataframe thead th {\n",
       "        text-align: right;\n",
       "    }\n",
       "</style>\n",
       "<table border=\"1\" class=\"dataframe\">\n",
       "  <thead>\n",
       "    <tr style=\"text-align: right;\">\n",
       "      <th></th>\n",
       "      <th>id</th>\n",
       "      <th>path</th>\n",
       "      <th>prob</th>\n",
       "      <th>y_pred</th>\n",
       "      <th>y_true</th>\n",
       "    </tr>\n",
       "  </thead>\n",
       "  <tbody>\n",
       "    <tr>\n",
       "      <th>11</th>\n",
       "      <td>11</td>\n",
       "      <td>data/nodules/11.npy</td>\n",
       "      <td>3.581552e-02</td>\n",
       "      <td>0</td>\n",
       "      <td>1</td>\n",
       "    </tr>\n",
       "    <tr>\n",
       "      <th>22</th>\n",
       "      <td>22</td>\n",
       "      <td>data/nodules/22.npy</td>\n",
       "      <td>9.805504e-01</td>\n",
       "      <td>1</td>\n",
       "      <td>0</td>\n",
       "    </tr>\n",
       "    <tr>\n",
       "      <th>30</th>\n",
       "      <td>30</td>\n",
       "      <td>data/nodules/30.npy</td>\n",
       "      <td>9.314186e-19</td>\n",
       "      <td>0</td>\n",
       "      <td>1</td>\n",
       "    </tr>\n",
       "    <tr>\n",
       "      <th>38</th>\n",
       "      <td>38</td>\n",
       "      <td>data/nodules/38.npy</td>\n",
       "      <td>9.999993e-01</td>\n",
       "      <td>1</td>\n",
       "      <td>0</td>\n",
       "    </tr>\n",
       "    <tr>\n",
       "      <th>39</th>\n",
       "      <td>39</td>\n",
       "      <td>data/nodules/39.npy</td>\n",
       "      <td>8.644773e-01</td>\n",
       "      <td>1</td>\n",
       "      <td>0</td>\n",
       "    </tr>\n",
       "    <tr>\n",
       "      <th>...</th>\n",
       "      <td>...</td>\n",
       "      <td>...</td>\n",
       "      <td>...</td>\n",
       "      <td>...</td>\n",
       "      <td>...</td>\n",
       "    </tr>\n",
       "    <tr>\n",
       "      <th>785</th>\n",
       "      <td>785</td>\n",
       "      <td>data/nodules/785.npy</td>\n",
       "      <td>5.816640e-08</td>\n",
       "      <td>0</td>\n",
       "      <td>1</td>\n",
       "    </tr>\n",
       "    <tr>\n",
       "      <th>790</th>\n",
       "      <td>790</td>\n",
       "      <td>data/nodules/790.npy</td>\n",
       "      <td>6.000522e-01</td>\n",
       "      <td>1</td>\n",
       "      <td>0</td>\n",
       "    </tr>\n",
       "    <tr>\n",
       "      <th>801</th>\n",
       "      <td>801</td>\n",
       "      <td>data/nodules/801.npy</td>\n",
       "      <td>6.007463e-01</td>\n",
       "      <td>1</td>\n",
       "      <td>0</td>\n",
       "    </tr>\n",
       "    <tr>\n",
       "      <th>810</th>\n",
       "      <td>810</td>\n",
       "      <td>data/nodules/810.npy</td>\n",
       "      <td>5.828556e-01</td>\n",
       "      <td>1</td>\n",
       "      <td>0</td>\n",
       "    </tr>\n",
       "    <tr>\n",
       "      <th>818</th>\n",
       "      <td>818</td>\n",
       "      <td>data/nodules/818.npy</td>\n",
       "      <td>2.333275e-19</td>\n",
       "      <td>0</td>\n",
       "      <td>1</td>\n",
       "    </tr>\n",
       "  </tbody>\n",
       "</table>\n",
       "<p>105 rows × 5 columns</p>\n",
       "</div>"
      ],
      "text/plain": [
       "      id                  path          prob  y_pred  y_true\n",
       "11    11   data/nodules/11.npy  3.581552e-02       0       1\n",
       "22    22   data/nodules/22.npy  9.805504e-01       1       0\n",
       "30    30   data/nodules/30.npy  9.314186e-19       0       1\n",
       "38    38   data/nodules/38.npy  9.999993e-01       1       0\n",
       "39    39   data/nodules/39.npy  8.644773e-01       1       0\n",
       "..   ...                   ...           ...     ...     ...\n",
       "785  785  data/nodules/785.npy  5.816640e-08       0       1\n",
       "790  790  data/nodules/790.npy  6.000522e-01       1       0\n",
       "801  801  data/nodules/801.npy  6.007463e-01       1       0\n",
       "810  810  data/nodules/810.npy  5.828556e-01       1       0\n",
       "818  818  data/nodules/818.npy  2.333275e-19       0       1\n",
       "\n",
       "[105 rows x 5 columns]"
      ]
     },
     "execution_count": 275,
     "metadata": {},
     "output_type": "execute_result"
    }
   ],
   "source": [
    "results[results[\"y_pred\"] != results[\"y_true\"]]"
   ]
  },
  {
   "cell_type": "markdown",
   "id": "pointed-prototype",
   "metadata": {},
   "source": [
    "### Find AE"
   ]
  },
  {
   "cell_type": "code",
   "execution_count": 314,
   "id": "loved-rugby",
   "metadata": {},
   "outputs": [],
   "source": [
    "ae_id = 422"
   ]
  },
  {
   "cell_type": "code",
   "execution_count": 315,
   "id": "super-panama",
   "metadata": {},
   "outputs": [
    {
     "data": {
      "text/plain": [
       "(-0.5, 47.5, 47.5, -0.5)"
      ]
     },
     "execution_count": 315,
     "metadata": {},
     "output_type": "execute_result"
    },
    {
     "data": {
      "image/png": "[encoded data removed]",
      "text/plain": [
       "<Figure size 432x288 with 1 Axes>"
      ]
     },
     "metadata": {
      "needs_background": "light"
     },
     "output_type": "display_data"
    }
   ],
   "source": [
    "plt.imshow(original_dataset_without_augmentations[ae_id][0][0].numpy(), cmap=\"gray\")\n",
    "plt.axis('off')"
   ]
  },
  {
   "cell_type": "code",
   "execution_count": 290,
   "id": "young-singer",
   "metadata": {},
   "outputs": [],
   "source": [
    "original_dataset_with_noise = NodulesDataset(\n",
    "    \"data/nodules\", \n",
    "    transform=transforms.Compose(\n",
    "        [\n",
    "#             lambda x: x/255,\n",
    "#             lambda x: (x - 0.3011869) / 0.25784153,\n",
    "#             lambda x: x + np.random.normal(0,0.04,(48, 48, 48)),\n",
    "#             lambda x: x[np.newaxis, :, :, :],\n",
    "#             lambda x: torch.tensor(x, dtype=torch.float32),\n",
    "            \n",
    "            lambda x: create_mip(x),\n",
    "            lambda x: x/255,\n",
    "            lambda x: x + np.random.normal(0,0.02,(48, 48)),\n",
    "            lambda x: x[np.newaxis, :, :],\n",
    "            lambda x: torch.tensor(x, dtype=torch.float32),\n",
    "        ]\n",
    "        \n",
    "    ),\n",
    "    return_path = True\n",
    ")"
   ]
  },
  {
   "cell_type": "code",
   "execution_count": 291,
   "id": "daily-northern",
   "metadata": {},
   "outputs": [
    {
     "data": {
      "text/plain": [
       "(-0.5, 47.5, 47.5, -0.5)"
      ]
     },
     "execution_count": 291,
     "metadata": {},
     "output_type": "execute_result"
    },
    {
     "data": {
      "image/png": "[encoded data removed]",
      "text/plain": [
       "<Figure size 432x288 with 1 Axes>"
      ]
     },
     "metadata": {
      "needs_background": "light"
     },
     "output_type": "display_data"
    }
   ],
   "source": [
    "plt.imshow(original_dataset_with_noise[ae_id][0][0].numpy(), cmap=\"gray\")\n",
    "plt.axis('off')"
   ]
  },
  {
   "cell_type": "code",
   "execution_count": 295,
   "id": "reverse-arrival",
   "metadata": {},
   "outputs": [
    {
     "name": "stderr",
     "output_type": "stream",
     "text": [
      "100%|██████████| 10000/10000 [01:29<00:00, 111.88it/s]\n"
     ]
    }
   ],
   "source": [
    "import itertools\n",
    "ae = []\n",
    "for _ in tqdm(range(10000)):\n",
    "    input_, label, path = original_dataset_with_noise[ae_id]\n",
    "    output = model(input_.unsqueeze(0))\n",
    "    \n",
    "    _, pred = torch.max(output, 1)\n",
    "        \n",
    "    ae.append(\n",
    "        {\n",
    "            \"prob\": output.detach().numpy()[0][1],\n",
    "#             \"image\": input_.detach().numpy() if output.detach().numpy()[0][1] <= 0.5 else None,\n",
    "            \"image\": input_.detach().numpy() if output.detach().numpy()[0][1] <= 0.5 else None,\n",
    "        }\n",
    "    )"
   ]
  },
  {
   "cell_type": "code",
   "execution_count": 296,
   "id": "devoted-story",
   "metadata": {},
   "outputs": [],
   "source": [
    "probs = pd.DataFrame([x[\"prob\"] for x in ae])"
   ]
  },
  {
   "cell_type": "code",
   "execution_count": 297,
   "id": "human-samba",
   "metadata": {},
   "outputs": [
    {
     "data": {
      "image/png": "[encoded data removed]",
      "text/plain": [
       "<Figure size 432x288 with 1 Axes>"
      ]
     },
     "metadata": {
      "needs_background": "light"
     },
     "output_type": "display_data"
    }
   ],
   "source": [
    "plt.hist(probs[0].to_numpy(), bins=40)\n",
    "plt.show()"
   ]
  },
  {
   "cell_type": "code",
   "execution_count": 301,
   "id": "mobile-complexity",
   "metadata": {},
   "outputs": [
    {
     "data": {
      "text/plain": [
       "(1, 1)"
      ]
     },
     "execution_count": 301,
     "metadata": {},
     "output_type": "execute_result"
    }
   ],
   "source": [
    "probs[probs[0] <= 0.5].shape"
   ]
  },
  {
   "cell_type": "code",
   "execution_count": 302,
   "id": "fitted-toolbox",
   "metadata": {},
   "outputs": [
    {
     "data": {
      "text/plain": [
       "(-0.5, 47.5, 47.5, -0.5)"
      ]
     },
     "execution_count": 302,
     "metadata": {},
     "output_type": "execute_result"
    },
    {
     "data": {
      "image/png": "[encoded data removed]",
      "text/plain": [
       "<Figure size 432x288 with 1 Axes>"
      ]
     },
     "metadata": {
      "needs_background": "light"
     },
     "output_type": "display_data"
    }
   ],
   "source": [
    "plt.imshow(original_dataset_without_augmentations[ae_id][0][0], cmap=\"gray\")\n",
    "plt.axis('off')"
   ]
  },
  {
   "cell_type": "code",
   "execution_count": 303,
   "id": "accessory-rochester",
   "metadata": {},
   "outputs": [
    {
     "ename": "IndexError",
     "evalue": "index 1 is out of bounds for axis 0 with size 1",
     "output_type": "error",
     "traceback": [
      "\u001b[0;31m---------------------------------------------------------------------------\u001b[0m",
      "\u001b[0;31mIndexError\u001b[0m                                Traceback (most recent call last)",
      "\u001b[0;32m<ipython-input-303-19e4d4a72481>\u001b[0m in \u001b[0;36m<module>\u001b[0;34m\u001b[0m\n\u001b[1;32m      5\u001b[0m \u001b[0;32mfor\u001b[0m \u001b[0mi\u001b[0m \u001b[0;32min\u001b[0m \u001b[0mrange\u001b[0m\u001b[0;34m(\u001b[0m\u001b[0mrows\u001b[0m\u001b[0;34m)\u001b[0m\u001b[0;34m:\u001b[0m\u001b[0;34m\u001b[0m\u001b[0;34m\u001b[0m\u001b[0m\n\u001b[1;32m      6\u001b[0m     \u001b[0;32mfor\u001b[0m \u001b[0mj\u001b[0m \u001b[0;32min\u001b[0m \u001b[0mrange\u001b[0m\u001b[0;34m(\u001b[0m\u001b[0mcolumns\u001b[0m\u001b[0;34m)\u001b[0m\u001b[0;34m:\u001b[0m\u001b[0;34m\u001b[0m\u001b[0;34m\u001b[0m\u001b[0m\n\u001b[0;32m----> 7\u001b[0;31m         \u001b[0mid_\u001b[0m \u001b[0;34m=\u001b[0m \u001b[0mprobs\u001b[0m\u001b[0;34m[\u001b[0m\u001b[0mprobs\u001b[0m\u001b[0;34m[\u001b[0m\u001b[0;36m0\u001b[0m\u001b[0;34m]\u001b[0m \u001b[0;34m<=\u001b[0m \u001b[0;36m0.5\u001b[0m\u001b[0;34m]\u001b[0m\u001b[0;34m.\u001b[0m\u001b[0mindex\u001b[0m\u001b[0;34m[\u001b[0m\u001b[0mi\u001b[0m\u001b[0;34m*\u001b[0m\u001b[0mrows\u001b[0m\u001b[0;34m+\u001b[0m\u001b[0mj\u001b[0m\u001b[0;34m]\u001b[0m\u001b[0;34m\u001b[0m\u001b[0;34m\u001b[0m\u001b[0m\n\u001b[0m\u001b[1;32m      8\u001b[0m         \u001b[0max\u001b[0m\u001b[0;34m[\u001b[0m\u001b[0mi\u001b[0m\u001b[0;34m,\u001b[0m \u001b[0mj\u001b[0m\u001b[0;34m]\u001b[0m\u001b[0;34m.\u001b[0m\u001b[0mset_title\u001b[0m\u001b[0;34m(\u001b[0m\u001b[0;34mf\"id - {id_} prob - {str(round(ae[id_]['prob'], 5))}\"\u001b[0m\u001b[0;34m)\u001b[0m\u001b[0;34m\u001b[0m\u001b[0;34m\u001b[0m\u001b[0m\n\u001b[1;32m      9\u001b[0m         \u001b[0max\u001b[0m\u001b[0;34m[\u001b[0m\u001b[0mi\u001b[0m\u001b[0;34m,\u001b[0m \u001b[0mj\u001b[0m\u001b[0;34m]\u001b[0m\u001b[0;34m.\u001b[0m\u001b[0mimshow\u001b[0m\u001b[0;34m(\u001b[0m\u001b[0mae\u001b[0m\u001b[0;34m[\u001b[0m\u001b[0mid_\u001b[0m\u001b[0;34m]\u001b[0m\u001b[0;34m[\u001b[0m\u001b[0;34m\"image\"\u001b[0m\u001b[0;34m]\u001b[0m\u001b[0;34m[\u001b[0m\u001b[0;36m0\u001b[0m\u001b[0;34m]\u001b[0m\u001b[0;34m,\u001b[0m \u001b[0mcmap\u001b[0m\u001b[0;34m=\u001b[0m\u001b[0;34m\"gray\"\u001b[0m\u001b[0;34m)\u001b[0m\u001b[0;34m\u001b[0m\u001b[0;34m\u001b[0m\u001b[0m\n",
      "\u001b[0;32m~/.miniconda3/lib/python3.8/site-packages/pandas/core/indexes/base.py\u001b[0m in \u001b[0;36m__getitem__\u001b[0;34m(self, key)\u001b[0m\n\u001b[1;32m   4295\u001b[0m         \u001b[0;32mif\u001b[0m \u001b[0mis_scalar\u001b[0m\u001b[0;34m(\u001b[0m\u001b[0mkey\u001b[0m\u001b[0;34m)\u001b[0m\u001b[0;34m:\u001b[0m\u001b[0;34m\u001b[0m\u001b[0;34m\u001b[0m\u001b[0m\n\u001b[1;32m   4296\u001b[0m             \u001b[0mkey\u001b[0m \u001b[0;34m=\u001b[0m \u001b[0mcom\u001b[0m\u001b[0;34m.\u001b[0m\u001b[0mcast_scalar_indexer\u001b[0m\u001b[0;34m(\u001b[0m\u001b[0mkey\u001b[0m\u001b[0;34m,\u001b[0m \u001b[0mwarn_float\u001b[0m\u001b[0;34m=\u001b[0m\u001b[0;32mTrue\u001b[0m\u001b[0;34m)\u001b[0m\u001b[0;34m\u001b[0m\u001b[0;34m\u001b[0m\u001b[0m\n\u001b[0;32m-> 4297\u001b[0;31m             \u001b[0;32mreturn\u001b[0m \u001b[0mgetitem\u001b[0m\u001b[0;34m(\u001b[0m\u001b[0mkey\u001b[0m\u001b[0;34m)\u001b[0m\u001b[0;34m\u001b[0m\u001b[0;34m\u001b[0m\u001b[0m\n\u001b[0m\u001b[1;32m   4298\u001b[0m \u001b[0;34m\u001b[0m\u001b[0m\n\u001b[1;32m   4299\u001b[0m         \u001b[0;32mif\u001b[0m \u001b[0misinstance\u001b[0m\u001b[0;34m(\u001b[0m\u001b[0mkey\u001b[0m\u001b[0;34m,\u001b[0m \u001b[0mslice\u001b[0m\u001b[0;34m)\u001b[0m\u001b[0;34m:\u001b[0m\u001b[0;34m\u001b[0m\u001b[0;34m\u001b[0m\u001b[0m\n",
      "\u001b[0;31mIndexError\u001b[0m: index 1 is out of bounds for axis 0 with size 1"
     ]
    },
    {
     "data": {
      "image/png": "[encoded data removed]",
      "text/plain": [
       "<Figure size 1332x756 with 10 Axes>"
      ]
     },
     "metadata": {
      "needs_background": "light"
     },
     "output_type": "display_data"
    }
   ],
   "source": [
    "columns = 5\n",
    "rows = 2\n",
    "f, ax = plt.subplots(rows, columns)\n",
    "f.set_size_inches(18.5, 10.5)\n",
    "for i in range(rows):\n",
    "    for j in range(columns):\n",
    "        id_ = probs[probs[0] <= 0.5].index[i*rows+j]\n",
    "        ax[i, j].set_title(f\"id - {id_} prob - {str(round(ae[id_]['prob'], 5))}\")\n",
    "        ax[i, j].imshow(ae[id_][\"image\"][0], cmap=\"gray\")\n",
    "        ax[i, j].axis('off')"
   ]
  },
  {
   "cell_type": "code",
   "execution_count": 300,
   "id": "piano-married",
   "metadata": {},
   "outputs": [],
   "source": [
    "from scipy.spatial.distance import euclidean"
   ]
  },
  {
   "cell_type": "code",
   "execution_count": 74,
   "id": "connected-calibration",
   "metadata": {},
   "outputs": [
    {
     "data": {
      "text/plain": [
       "(48, 48)"
      ]
     },
     "execution_count": 74,
     "metadata": {},
     "output_type": "execute_result"
    }
   ],
   "source": [
    "original_dataset_without_augmentations[ae_id][0][0].numpy().shape"
   ]
  },
  {
   "cell_type": "code",
   "execution_count": 75,
   "id": "intimate-paste",
   "metadata": {},
   "outputs": [
    {
     "data": {
      "text/plain": [
       "27"
      ]
     },
     "execution_count": 75,
     "metadata": {},
     "output_type": "execute_result"
    }
   ],
   "source": [
    "probs[probs[0] < 0.5][0].index[0]"
   ]
  },
  {
   "cell_type": "code",
   "execution_count": 76,
   "id": "controlling-marketplace",
   "metadata": {},
   "outputs": [
    {
     "data": {
      "text/plain": [
       "(48, 48)"
      ]
     },
     "execution_count": 76,
     "metadata": {},
     "output_type": "execute_result"
    }
   ],
   "source": [
    "ae[probs[probs[0] < 0.5][0].index[0]][\"image\"][0].shape"
   ]
  },
  {
   "cell_type": "code",
   "execution_count": 77,
   "id": "stunning-bridge",
   "metadata": {},
   "outputs": [
    {
     "data": {
      "text/plain": [
       "0.9404681"
      ]
     },
     "execution_count": 77,
     "metadata": {},
     "output_type": "execute_result"
    }
   ],
   "source": [
    "np.linalg.norm(original_dataset_without_augmentations[ae_id][0][0].numpy() - ae[probs[probs[0] < 0.5][0].index[0]][\"image\"][0])"
   ]
  },
  {
   "cell_type": "code",
   "execution_count": 78,
   "id": "architectural-familiar",
   "metadata": {},
   "outputs": [
    {
     "data": {
      "text/plain": [
       "0.0"
      ]
     },
     "execution_count": 78,
     "metadata": {},
     "output_type": "execute_result"
    }
   ],
   "source": [
    "np.linalg.norm(original_dataset_without_augmentations[ae_id][0][0].numpy() - original_dataset_without_augmentations[ae_id][0][0].numpy())"
   ]
  },
  {
   "cell_type": "code",
   "execution_count": null,
   "id": "combined-migration",
   "metadata": {},
   "outputs": [],
   "source": []
  }
 ],
 "metadata": {
  "kernelspec": {
   "display_name": "Python 3",
   "language": "python",
   "name": "python3"
  },
  "language_info": {
   "codemirror_mode": {
    "name": "ipython",
    "version": 3
   },
   "file_extension": ".py",
   "mimetype": "text/x-python",
   "name": "python",
   "nbconvert_exporter": "python",
   "pygments_lexer": "ipython3",
   "version": "3.8.5"
  }
 },
 "nbformat": 4,
 "nbformat_minor": 5
}
